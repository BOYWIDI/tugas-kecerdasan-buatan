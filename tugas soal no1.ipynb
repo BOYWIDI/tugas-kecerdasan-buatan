{
 "cells": [
  {
   "cell_type": "code",
   "execution_count": 6,
   "id": "e1924af8-4d1c-49f7-83b6-87903b8fa6fe",
   "metadata": {},
   "outputs": [
    {
     "name": "stdout",
     "output_type": "stream",
     "text": [
      "Output Produksi: 3492.4242424242425\n"
     ]
    }
   ],
   "source": [
    "import numpy as np  \n",
    "\n",
    "# Membership functions  \n",
    "def permintaan_turun(x):  \n",
    "    return np.maximum(0, np.minimum(1, (3000 - x) / 3000))  \n",
    "\n",
    "def permintaan_tetap(x):  \n",
    "    return np.maximum(0, np.minimum((x - 1000) / 2000, (5000 - x) / 2000))  \n",
    "\n",
    "def permintaan_naik(x):  \n",
    "    return np.maximum(0, np.minimum(1, (x - 3000) / 3000))  \n",
    "\n",
    "def persediaan_sedikit(x):  \n",
    "    return np.maximum(0, np.minimum(1, (300 - x) / 300))  \n",
    "\n",
    "def persediaan_sedang(x):  \n",
    "    return np.maximum(0, np.minimum((x - 100) / 200, (700 - x) / 300))  \n",
    "\n",
    "def persediaan_banyak(x):  \n",
    "    return np.maximum(0, np.minimum(1, (x - 500) / 500))  \n",
    "\n",
    "# Produksi linear output functions  \n",
    "def produksi_berkurang(α):  \n",
    "    return 8000 - 7000 * α  \n",
    "\n",
    "def produksi_bertambah(α):  \n",
    "    return 1000 + 7000 * α  \n",
    "\n",
    "# Fuzzy Inference System Tsukamoto  \n",
    "def fuzzy_inference(permintaan, persediaan):  \n",
    "    # Rule evaluations  \n",
    "    μ_permintaan_turun = permintaan_turun(permintaan)  \n",
    "    μ_permintaan_tetap = permintaan_tetap(permintaan)  \n",
    "    μ_permintaan_naik = permintaan_naik(permintaan)  \n",
    "\n",
    "    μ_persediaan_sedikit = persediaan_sedikit(persediaan)  \n",
    "    μ_persediaan_sedang = persediaan_sedang(persediaan)  \n",
    "    μ_persediaan_banyak = persediaan_banyak(persediaan)  \n",
    "\n",
    "    # Applying rules  \n",
    "    rules = []  \n",
    "    rules.append((min(μ_permintaan_turun, μ_persediaan_sedikit), produksi_bertambah))  \n",
    "    rules.append((min(μ_permintaan_turun, μ_persediaan_sedang), produksi_berkurang))  \n",
    "    rules.append((min(μ_permintaan_turun, μ_persediaan_banyak), produksi_berkurang))  \n",
    "    rules.append((min(μ_permintaan_tetap, μ_persediaan_sedikit), produksi_bertambah))  \n",
    "    rules.append((min(μ_permintaan_tetap, μ_persediaan_sedang), produksi_berkurang))  \n",
    "    rules.append((min(μ_permintaan_tetap, μ_persediaan_banyak), produksi_berkurang))  \n",
    "    rules.append((min(μ_permintaan_naik, μ_persediaan_sedikit), produksi_bertambah))  \n",
    "    rules.append((min(μ_permintaan_naik, μ_persediaan_sedang), produksi_bertambah))  \n",
    "    rules.append((min(μ_permintaan_naik, μ_persediaan_banyak), produksi_berkurang))  \n",
    "\n",
    "    # Weighted average defuzzification  \n",
    "    numerator = 0  \n",
    "    denominator = 0  \n",
    "    for α, output_function in rules:  \n",
    "        if α > 0:  # Only consider rules that have a non-zero membership value  \n",
    "            z = output_function(α)  \n",
    "            numerator += α * z  \n",
    "            denominator += α  \n",
    "\n",
    "    if denominator == 0:  \n",
    "        return 0  \n",
    "    return numerator / denominator  \n",
    "\n",
    "# Example input  \n",
    "permintaan_input = 2500  # Example demand input  \n",
    "persediaan_input = 400    # Example supply input  \n",
    "\n",
    "# Calculate output  \n",
    "output_produksi = fuzzy_inference(permintaan_input, persediaan_input)  \n",
    "print(f\"Output Produksi: {output_produksi}\")"
   ]
  },
  {
   "cell_type": "markdown",
   "id": "902a6f2c-5a7b-4277-b23f-6d52434050b0",
   "metadata": {},
   "source": []
  }
 ],
 "metadata": {
  "kernelspec": {
   "display_name": "Python 3 (ipykernel)",
   "language": "python",
   "name": "python3"
  },
  "language_info": {
   "codemirror_mode": {
    "name": "ipython",
    "version": 3
   },
   "file_extension": ".py",
   "mimetype": "text/x-python",
   "name": "python",
   "nbconvert_exporter": "python",
   "pygments_lexer": "ipython3",
   "version": "3.12.3"
  }
 },
 "nbformat": 4,
 "nbformat_minor": 5
}
